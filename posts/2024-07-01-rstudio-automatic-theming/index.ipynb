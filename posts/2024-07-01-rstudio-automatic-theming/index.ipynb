{
  "cells": [
    {
      "cell_type": "raw",
      "metadata": {},
      "source": [
        "---\n",
        "title: \"Building a theme switcher for teaching with RStudio\"\n",
        "description: \"Switch quickly between a vanilla RStudio configuration for teaching, and a custom development configuration.\"\n",
        "author:\n",
        "  - name: Pete Lawson\n",
        "    url: https://petelawson.com\n",
        "    orcid: 0000-0001-5106-490X\n",
        "    affiliation: Data Services @ Johns Hopkins University\n",
        "    affiliation-url: https://dataservices.library.jhu.edu/ \n",
        "date: 07-01-2024\n",
        "categories: [RStudio, Teaching, Alfred] # self-defined categories\n",
        "citation: \n",
        "  url: https://petelawson.com/posts/2024-07-01-rstudio-automatic-theming/ \n",
        "image: preview-image.png\n",
        "draft: false # setting this to `true` will prevent your post from appearing on your listing page until you're ready!\n",
        "---"
      ],
      "id": "cba879e1"
    },
    {
      "cell_type": "markdown",
      "metadata": {},
      "source": [
        "Part of my day to day involves teaching workshops in R and Python. For my R workshops I teach with RStudio. I rely heavily on [participatory live coding](https://journals.plos.org/ploscompbiol/article?id=10.1371/journal.pcbi.1008090). It is important to keep your configuration as close to your learners as possible, which means sticking with the vanilla, default settings for the applications you are teaching with. \n",
        "\n",
        "I also use RStudio for development (although that might change with the introduction of Positron), and have a bespoke configuration, with VIM bindings, custom panel layout, custom color scheme, and custom snippets.\n",
        "\n",
        "It is a pain to reset my configuration to default, and I can never remember what the default pane layout is, and lastly I don't want to lose all of my custom configuration.\n",
        "\n",
        "A teaching mode is an open RStudio issue (since 2019): see [[Feature request] Teaching/presentation mode #4276](https://github.com/rstudio/rstudio/issues/4276) and the related issue [Feature Request: Provide Session-level control over Themes or Background Colors #2350](https://github.com/rstudio/rstudio/issues/2350). \n",
        "\n",
        "In fact, my comment on [#2350](https://github.com/rstudio/rstudio/issues/2350) seemd to push the issue up from backlog3 to [backlog2](https://github.com/rstudio/rstudio/milestone/23), but it doesn't seem like any work was done on it since then.\n",
        "\n",
        "![](images/issue.png){width=50%}\n",
        "\n",
        "## RStudio 1.3 - A New Hope\n",
        "\n",
        "With the introduction of RStudio 1.3, your configuration is stored as a json (`rstudio-prefs.json`) in the `rstudio` folder within `.config` in your home directory. \n",
        "\n",
        "This gave me an idea - what if I could keep two copies of my configuration; one for teaching and one for development, and write a bash script two swap between them?\n",
        "\n",
        "Even better, I use [Alfred](https://www.alfredapp.com/), an application launcher that can run be configured to run custom scripts. Alfred is Mac specific, but similar launchers exist for other OS's, for example [Wox](https://github.com/Wox-launcher/Wox) for Windows.\n",
        "\n",
        "## Start simple\n",
        "\n",
        "Before I implemented the workflow in Alfred, I first developed a script to swap between a `teaching` configuration and a `development` configuration. I started by copying my `rstudio` folder to a folder named `rstudio-dev`. Then I deletd `rstudio`, which forces RStudio to reegenerate the configuration on startup, including my errors.and one `rstudio-teaching`. I deleted the\n",
        "\n",
        "\n",
        "\n",
        "```{Shell}\n",
        "dev_config=\"$HOME/.config/rstudiodev\"\n",
        "teach_config=\"$HOME/.config/rstudioteach\"\n",
        "active_config=\"$HOME/.config/rstudio\"\n",
        "\n",
        "if [ -d \"$teach_config\" ]; then\n",
        "  mv \"$active_config\" \"$dev_config\"\n",
        "  mv \"$teach_config\" \"$active_config\"\n",
        "  echo \"Teaching mode active!\"\n",
        "elif [ -d \"$dev_config\" ]; then\n",
        "  mv \"$active_config\" \"$teach_config\"\n",
        "  mv \"$dev_config\" \"$active_config\"\n",
        "  echo \"Development mode active!\"\n",
        "fi\n",
        "```"
      ],
      "id": "004b01b6"
    }
  ],
  "metadata": {
    "kernelspec": {
      "display_name": "Python 3",
      "language": "python",
      "name": "python3"
    }
  },
  "nbformat": 4,
  "nbformat_minor": 5
}